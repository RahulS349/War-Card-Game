{
 "cells": [
  {
   "cell_type": "code",
   "execution_count": 37,
   "id": "29f9d6aa",
   "metadata": {},
   "outputs": [],
   "source": [
    "#card\n",
    "#suit,rank,value\n",
    "import random\n",
    "suits = ('Hearts', 'Diamonds', 'Spades', 'Clubs')\n",
    "ranks = ('Two', 'Three', 'Four', 'Five', 'Six', 'Seven', 'Eight', 'Nine', 'Ten', 'Jack', 'Queen', 'King', 'Ace')\n",
    "values = {'Two':2, 'Three':3, 'Four':4, 'Five':5, 'Six':6, 'Seven':7, 'Eight':8, 'Nine':9, \n",
    "          'Ten':10, 'Jack':11, 'Queen':12, 'King':13, 'Ace':14}"
   ]
  },
  {
   "cell_type": "code",
   "execution_count": 38,
   "id": "17055383",
   "metadata": {},
   "outputs": [],
   "source": [
    "class Card:\n",
    "    def __init__(self,suit,rank):\n",
    "        self.suit=suit\n",
    "        self.rank=rank\n",
    "        self.value=values[rank]\n",
    "        \n",
    "    def __str__(self):\n",
    "        return self.rank + \" of \" + self.suit"
   ]
  },
  {
   "cell_type": "code",
   "execution_count": 39,
   "id": "6857177d",
   "metadata": {},
   "outputs": [],
   "source": [
    "class Deck:\n",
    "    def __init__(self):\n",
    "        self.all_cards = []\n",
    "        for suit in suits:\n",
    "            for rank in ranks:\n",
    "                created_card = Card(suit,rank)\n",
    "                self.all_cards.append(created_card)\n",
    "    \n",
    "    \n",
    "    def shuffle(self):\n",
    "        random.shuffle(self.all_cards)\n",
    "        \n",
    "    def deal_one(self):\n",
    "        return self.all_cards.pop()"
   ]
  },
  {
   "cell_type": "code",
   "execution_count": 40,
   "id": "0a2580be",
   "metadata": {},
   "outputs": [],
   "source": [
    "new_deck = Deck()\n",
    "new_deck.shuffle()\n"
   ]
  },
  {
   "cell_type": "code",
   "execution_count": 41,
   "id": "eee8f685",
   "metadata": {},
   "outputs": [
    {
     "name": "stdout",
     "output_type": "stream",
     "text": [
      "Five of Hearts\n",
      "Five of Clubs\n",
      "Ace of Hearts\n",
      "Seven of Diamonds\n",
      "Jack of Diamonds\n",
      "Two of Spades\n",
      "Two of Clubs\n",
      "Four of Spades\n",
      "Queen of Spades\n",
      "King of Hearts\n",
      "Three of Spades\n",
      "Three of Clubs\n",
      "Ten of Diamonds\n",
      "King of Diamonds\n",
      "King of Spades\n",
      "Nine of Diamonds\n",
      "Queen of Hearts\n",
      "King of Clubs\n",
      "Nine of Clubs\n",
      "Ten of Spades\n",
      "Three of Hearts\n",
      "Four of Diamonds\n",
      "Eight of Hearts\n",
      "Six of Diamonds\n",
      "Queen of Diamonds\n",
      "Two of Diamonds\n",
      "Four of Hearts\n",
      "Five of Diamonds\n",
      "Four of Clubs\n",
      "Jack of Hearts\n",
      "Six of Clubs\n",
      "Six of Hearts\n",
      "Seven of Clubs\n",
      "Ten of Clubs\n",
      "Eight of Spades\n",
      "Ace of Spades\n",
      "Seven of Hearts\n",
      "Queen of Clubs\n",
      "Three of Diamonds\n",
      "Ten of Hearts\n",
      "Ace of Clubs\n",
      "Six of Spades\n",
      "Ace of Diamonds\n",
      "Nine of Hearts\n",
      "Eight of Clubs\n",
      "Seven of Spades\n",
      "Jack of Clubs\n",
      "Two of Hearts\n",
      "Eight of Diamonds\n",
      "Jack of Spades\n",
      "Nine of Spades\n",
      "Five of Spades\n"
     ]
    }
   ],
   "source": [
    "for card_objects in new_deck.all_cards:\n",
    "    print(card_objects)"
   ]
  },
  {
   "cell_type": "code",
   "execution_count": 42,
   "id": "a6263cd7",
   "metadata": {},
   "outputs": [],
   "source": [
    "class Player:\n",
    "    def __init__(self,name):\n",
    "        self.name = name\n",
    "        self.all_cards = []\n",
    "    \n",
    "    def remove_one(self):\n",
    "        return self.all_cards.pop(0)\n",
    "    \n",
    "    def add_cards(self,new_cards):\n",
    "        if type(new_cards) == type([]):\n",
    "            self.all_cards.extend(new_cards)\n",
    "        else:\n",
    "            self.all_cards.append(new_cards)\n",
    "            \n",
    "    def __str__(self):\n",
    "        return f'Player {self.name} has {len(self.all_cards)} cards.'\n",
    "        "
   ]
  },
  {
   "cell_type": "code",
   "execution_count": 62,
   "id": "6535a2c6",
   "metadata": {},
   "outputs": [],
   "source": [
    "#game setup\n",
    "\n",
    "player_one = Player(\"One\")\n",
    "player_two = Player(\"Two\")\n",
    "\n",
    "new_deck = Deck()\n",
    "new_deck.shuffle()\n",
    "\n",
    "\n",
    "for x in range(26):\n",
    "    player_one.add_cards(new_deck.deal_one())\n",
    "    player_two.add_cards(new_deck.deal_one()) "
   ]
  },
  {
   "cell_type": "code",
   "execution_count": 63,
   "id": "09ffac29",
   "metadata": {},
   "outputs": [],
   "source": [
    "game_on = True"
   ]
  },
  {
   "cell_type": "code",
   "execution_count": 64,
   "id": "bdb94d1e",
   "metadata": {},
   "outputs": [
    {
     "name": "stdout",
     "output_type": "stream",
     "text": [
      "Rounds 1\n",
      "War!\n",
      "Rounds 2\n",
      "War!\n",
      "Rounds 3\n",
      "War!\n",
      "Rounds 4\n",
      "Rounds 5\n",
      "War!\n",
      "Rounds 6\n",
      "War!\n",
      "Rounds 7\n",
      "Rounds 8\n",
      "Rounds 9\n",
      "Rounds 10\n",
      "War!\n",
      "Rounds 11\n",
      "War!\n",
      "Rounds 12\n",
      "War!\n",
      "Rounds 13\n",
      "Rounds 14\n",
      "War!\n",
      "Player one unable to declare WAR!\n",
      "Player two wins\n"
     ]
    }
   ],
   "source": [
    "round_no = 0\n",
    "\n",
    "while game_on:\n",
    "    round_no += 1\n",
    "    print(f\"Rounds {round_no}\")\n",
    "    \n",
    "    if len(player_one.all_cards) == 0:\n",
    "        print(\"Player One is out of card! player two wins!\")\n",
    "        game_on = False\n",
    "        break\n",
    "        \n",
    "    if len(player_two.all_cards) == 0:\n",
    "        print(\"Player two is out of card! player one wins!\")\n",
    "        game_on = False\n",
    "        break\n",
    "        \n",
    "    player_one_cards = []\n",
    "    player_one_cards.append(player_one.remove_one())\n",
    "    \n",
    "    player_two_cards = []\n",
    "    player_two_cards.append(player_two.remove_one())\n",
    "    \n",
    "    at_war = True\n",
    "    \n",
    "    while at_war:\n",
    "        if player_one_cards[-1].value > player_two_cards[-1].value:\n",
    "            player_one.add_cards(player_one_cards)\n",
    "            player_one.add_cards(player_two_cards)\n",
    "            \n",
    "            at_war = False\n",
    "            \n",
    "        if player_one_cards[-1].value < player_two_cards[-1].value:\n",
    "            player_two.add_cards(player_one_cards)\n",
    "            player_two.add_cards(player_two_cards)\n",
    "            \n",
    "            at_war = False\n",
    "            \n",
    "        else:\n",
    "            print(\"War!\")\n",
    "            if len(player_one.all_cards) < 5:\n",
    "                print(\"Player one unable to declare WAR!\")\n",
    "                print(\"Player two wins\")\n",
    "                game_on = False\n",
    "                break\n",
    "                \n",
    "            elif len(player_two.all_cards) < 5:\n",
    "                print(\"Player two unable to declare WAR!\")\n",
    "                print(\"Player one wins\")\n",
    "                game_on = False\n",
    "                break\n",
    "                \n",
    "            else:\n",
    "                for num in range(3):\n",
    "                    \n",
    "                    player_one_cards.append(player_one.remove_one())\n",
    "                    player_two_cards.append(player_two.remove_one())"
   ]
  },
  {
   "cell_type": "code",
   "execution_count": null,
   "id": "ad85322a",
   "metadata": {},
   "outputs": [],
   "source": [
    " "
   ]
  },
  {
   "cell_type": "code",
   "execution_count": null,
   "id": "cf94d2d5",
   "metadata": {},
   "outputs": [],
   "source": [
    " "
   ]
  }
 ],
 "metadata": {
  "kernelspec": {
   "display_name": "Python 3 (ipykernel)",
   "language": "python",
   "name": "python3"
  },
  "language_info": {
   "codemirror_mode": {
    "name": "ipython",
    "version": 3
   },
   "file_extension": ".py",
   "mimetype": "text/x-python",
   "name": "python",
   "nbconvert_exporter": "python",
   "pygments_lexer": "ipython3",
   "version": "3.11.5"
  }
 },
 "nbformat": 4,
 "nbformat_minor": 5
}
